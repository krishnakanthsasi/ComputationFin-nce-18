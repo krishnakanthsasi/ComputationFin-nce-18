{
 "cells": [
  {
   "cell_type": "markdown",
   "metadata": {},
   "source": [
    "# Computational Finance\n",
    "\n",
    "## Lab Assignment 2\n",
    "\n",
    "This notebook makes use of a python 3 environment by default.\n",
    "\n",
    "Authors:\n",
    "- Kevin de Vries\n",
    "- Jedda Boyle\n",
    "- Krishnakanth Sasi\n",
    "\n",
    "Student numbers:\n",
    "- 10579869\n",
    "- 11398221\n",
    "- 11391952"
   ]
  },
  {
   "cell_type": "code",
   "execution_count": 1,
   "metadata": {
    "collapsed": true
   },
   "outputs": [],
   "source": [
    "import numpy as np\n",
    "import matplotlib.pyplot as plt"
   ]
  },
  {
   "cell_type": "markdown",
   "metadata": {},
   "source": [
    "# Part 1: Basic Option Valuation"
   ]
  },
  {
   "cell_type": "code",
   "execution_count": 50,
   "metadata": {
    "collapsed": true
   },
   "outputs": [],
   "source": [
    "def MC_option_values(S0,K,r,sigma,T,M=1000,N_sim=1000,call=False):\n",
    "    \"\"\"\n",
    "    Calculates a number of European option \n",
    "    values using a Monte Carlo method.\n",
    "    \n",
    "    The value is determined as the mean of a \n",
    "    batch of payoffs discounted with the interest rate.\n",
    "    \"\"\"\n",
    "    eps = np.random.normal(0,1,(M,N_sim))\n",
    "    S_T = S0 * np.exp((r - sigma**2 / 2)*T + sigma*eps*np.sqrt(T))\n",
    "    batch = np.maximum(0, S_T - K) if call else np.maximum(0,K - S_T)\n",
    "    \n",
    "    values =  np.exp(-r*T) * np.mean(batch,axis=0)\n",
    "    return values\n",
    "\n",
    "def option_statistics(values):\n",
    "    \"\"\"\n",
    "    Calculates the mean and standard error of\n",
    "    an array of simulated option values.\n",
    "    \"\"\"\n",
    "    mean = np.mean(values)\n",
    "    var = np.sum((values-mean)**2) / (values.size - 1)\n",
    "    std_err = np.sqrt(var/values.size)\n",
    "    \n",
    "    return mean,std_err"
   ]
  },
  {
   "cell_type": "code",
   "execution_count": 66,
   "metadata": {},
   "outputs": [
    {
     "name": "stdout",
     "output_type": "stream",
     "text": [
      "mean: 11.539642\n",
      "standard error: 0.001536\n"
     ]
    }
   ],
   "source": [
    "# Calculate European option value using Batch Monte Carlo\n",
    "S0, K = 100, 99\n",
    "r, sigma = 0.06, 0.2\n",
    "T, M = 1,1000\n",
    "N_sim = 100000\n",
    "\n",
    "# Option values using mean payoffs\n",
    "values = MC_option_values(S0,K,r,sigma,T,M,N_sim,True)\n",
    "\n",
    "# Mean and standard error of option values\n",
    "mean, std = option_statistics(values)\n",
    "\n",
    "print(\"mean: %f\" % mean)\n",
    "print(\"standard error: %f\" % std)"
   ]
  },
  {
   "cell_type": "code",
   "execution_count": 68,
   "metadata": {},
   "outputs": [
    {
     "data": {
      "image/png": "[encoded data removed]",
      "text/plain": [
       "<matplotlib.figure.Figure at 0x7f6c4c7fa208>"
      ]
     },
     "metadata": {},
     "output_type": "display_data"
    }
   ],
   "source": [
    "N_bins = 200\n",
    "\n",
    "plt.hist(values,N_bins)\n",
    "plt.show()"
   ]
  },
  {
   "cell_type": "markdown",
   "metadata": {},
   "source": [
    "# Part 2: Estimation of Sensitivities in MC"
   ]
  },
  {
   "cell_type": "code",
   "execution_count": null,
   "metadata": {
    "collapsed": true
   },
   "outputs": [],
   "source": []
  },
  {
   "cell_type": "markdown",
   "metadata": {},
   "source": [
    "# Part 3: Variance Reduction"
   ]
  },
  {
   "cell_type": "code",
   "execution_count": null,
   "metadata": {
    "collapsed": true
   },
   "outputs": [],
   "source": []
  }
 ],
 "metadata": {
  "kernelspec": {
   "display_name": "Python [default]",
   "language": "python",
   "name": "python3"
  },
  "language_info": {
   "codemirror_mode": {
    "name": "ipython",
    "version": 3
   },
   "file_extension": ".py",
   "mimetype": "text/x-python",
   "name": "python",
   "nbconvert_exporter": "python",
   "pygments_lexer": "ipython3",
   "version": "3.6.3"
  }
 },
 "nbformat": 4,
 "nbformat_minor": 2
}
