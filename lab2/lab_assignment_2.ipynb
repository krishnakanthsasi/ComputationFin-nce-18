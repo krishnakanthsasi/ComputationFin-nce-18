{
 "cells": [
  {
   "cell_type": "markdown",
   "metadata": {},
   "source": [
    "# Computational Finance\n",
    "\n",
    "## Lab Assignment 2\n",
    "\n",
    "This notebook makes use of a python 3 environment by default.\n",
    "\n",
    "Authors:\n",
    "- Kevin de Vries\n",
    "- Jedda Boyle\n",
    "- Krishnakanth Sasi\n",
    "\n",
    "Student numbers:\n",
    "- 10579869\n",
    "- 11398221\n",
    "- 11391952"
   ]
  },
  {
   "cell_type": "code",
   "execution_count": 1,
   "metadata": {
    "collapsed": true
   },
   "outputs": [],
   "source": [
    "import numpy as np\n",
    "import matplotlib.pyplot as plt\n",
    "from scipy.stats import norm\n",
    "\n",
    "# Keeps results reproducible\n",
    "np.random.seed(23456)"
   ]
  },
  {
   "cell_type": "markdown",
   "metadata": {},
   "source": [
    "# Part 1: Basic Option Valuation"
   ]
  },
  {
   "cell_type": "code",
   "execution_count": 2,
   "metadata": {
    "collapsed": true
   },
   "outputs": [],
   "source": [
    "def European(S0,K,r,sigma,T,N,Z,call):\n",
    "    \"\"\"\n",
    "    Calculates the payoff of European option simulations\n",
    "    \"\"\"\n",
    "    \n",
    "    S_T = S0 * np.exp((r - sigma**2 / 2)*T + sigma*Z*np.sqrt(T))\n",
    "    batch = np.maximum(0, S_T - K) if call else np.maximum(0,K - S_T)\n",
    "    return batch\n",
    "\n",
    "def MC_option_values(S0,K,r,sigma,T,N,M=100000,N_sim=30,\n",
    "                     call=False,payoff=European,path=False,antithetic=True,stats=True):\n",
    "    \"\"\"\n",
    "    Calculates a number of option values using a Monte Carlo method. \n",
    "    The option to use antithetic variables is on by default.\n",
    "    \n",
    "    The value is determined as the mean of a \n",
    "    batch of payoffs discounted with the interest rate.\n",
    "    \n",
    "    Returns the mean of the calculated options and its standard error\n",
    "    \n",
    "    call:\n",
    "        Determines if call or put option\n",
    "    payoff:\n",
    "        Function which calculates the payoff of the option style\n",
    "    path:\n",
    "        Determines if the full path of the stock price has to be simulated.\n",
    "    antithetic:\n",
    "        Determines if to apply variance reduction using antithetic variables\n",
    "    stats:\n",
    "        Determines if the mean and standard error of the option values are returned\n",
    "    \"\"\"\n",
    "    if path:\n",
    "        Z = np.random.normal(0,1,(M,N_sim,N))\n",
    "    else:\n",
    "        Z = np.random.normal(0,1,(M,N_sim))\n",
    "    \n",
    "    batch = payoff(S0,K,r,sigma,T,N,Z,call)\n",
    "    values = np.exp(-r*T) * np.mean(batch,axis=0)\n",
    "    \n",
    "    if antithetic:\n",
    "        batch = payoff(S0,K,r,sigma,T,N,-Z,call)\n",
    "        values_min = np.exp(-r*T) * np.mean(batch,axis=0)\n",
    "        values = (values + values_min) / 2\n",
    "    \n",
    "    if stats:\n",
    "        mean,std = data_stats(values)\n",
    "        return values,mean,std\n",
    "    else:\n",
    "        return values\n",
    "    \n",
    "def data_stats(data):\n",
    "    mean = np.mean(data)\n",
    "    var = np.sum((data-mean)**2) / (data.size - 1)\n",
    "    std_err = np.sqrt(var/data.size)\n",
    "    return mean,std_err"
   ]
  },
  {
   "cell_type": "code",
   "execution_count": 3,
   "metadata": {},
   "outputs": [
    {
     "name": "stdout",
     "output_type": "stream",
     "text": [
      "Mean: 4.789625\n",
      "Standard error: 0.013258\n",
      "Mean: 4.773392\n",
      "Standard error: 0.008631\n"
     ]
    }
   ],
   "source": [
    "# Calculate European option value using Batch Monte Carlo\n",
    "S0, K = 100, 99\n",
    "r, sigma = 0.06, 0.2\n",
    "T, N = 1, 1\n",
    "M, N_sim = 10000,30\n",
    "\n",
    "# Option values and stats using mean payoffs\n",
    "values,mean,std = MC_option_values(S0,K,r,sigma,T,N,M,N_sim,antithetic=False)\n",
    "\n",
    "print(\"Mean: %f\" % mean)\n",
    "print(\"Standard error: %f\" % std)\n",
    "\n",
    "# Option values and stats using mean payoffs with antithetic variables\n",
    "values,mean,std = MC_option_values(S0,K,r,sigma,T,N,M,N_sim)\n",
    "\n",
    "print(\"Mean: %f\" % mean)\n",
    "print(\"Standard error: %f\" % std)"
   ]
  },
  {
   "cell_type": "markdown",
   "metadata": {},
   "source": [
    "# Part 2: Estimation of Sensitivities in MC"
   ]
  },
  {
   "cell_type": "code",
   "execution_count": 4,
   "metadata": {},
   "outputs": [
    {
     "name": "stdout",
     "output_type": "stream",
     "text": [
      "Different seeds:\n",
      "\n",
      "Mean: 4.777819\n",
      "Standard error: 0.002442\n",
      "\n",
      "Hedge parameter estimate: 2.441588\n",
      "Hedge parameter standard error: 3.556196\n",
      "\n",
      "Same seed:\n",
      "\n",
      "Mean: 4.780265\n",
      "Standard error: 0.002532\n",
      "\n",
      "Hedge parameter estimate: -0.326319\n",
      "Hedge parameter standard error: 0.000098\n"
     ]
    }
   ],
   "source": [
    "# Calculate European option value using Batch Monte Carlo\n",
    "S0, K = 100, 99\n",
    "r, sigma = 0.06, 0.2\n",
    "T, M = 1,100000\n",
    "call = False\n",
    "\n",
    "N_sim = 30\n",
    "eps = 0.001\n",
    "\n",
    "# Different seeds\n",
    "unbumped = MC_option_values(S0,K,r,sigma,T,N,M,N_sim,call)\n",
    "bumped = MC_option_values(S0+eps,K,r,sigma,T,N,M,N_sim,call)\n",
    "\n",
    "# Calculate delta from estimate means\n",
    "deltas = (bumped[0]-unbumped[0]) / eps\n",
    "\n",
    "mu_delta,std_delta = data_stats(deltas)\n",
    "\n",
    "print(\"Different seeds:\\n\")\n",
    "print(\"Mean: %f\" % unbumped[1])\n",
    "print(\"Standard error: %f\\n\" % unbumped[2])\n",
    "print(\"Hedge parameter estimate: %f\" % mu_delta)\n",
    "print(\"Hedge parameter standard error: %f\\n\" % std_delta)\n",
    "\n",
    "# Same seed\n",
    "seed = 12\n",
    "\n",
    "np.random.seed(seed)\n",
    "unbumped = MC_option_values(S0,K,r,sigma,T,N,M,N_sim,call)\n",
    "np.random.seed(seed)\n",
    "bumped = MC_option_values(S0+eps,K,r,sigma,T,N,M,N_sim,call)\n",
    "\n",
    "# Calculate delta from estimate means\n",
    "deltas = (bumped[0]-unbumped[0]) / eps\n",
    "\n",
    "mu_delta,std_delta = data_stats(deltas)\n",
    "\n",
    "print(\"Same seed:\\n\")\n",
    "print(\"Mean: %f\" % unbumped[1])\n",
    "print(\"Standard error: %f\\n\" % unbumped[2])\n",
    "print(\"Hedge parameter estimate: %f\" % mu_delta)\n",
    "print(\"Hedge parameter standard error: %f\" % std_delta)"
   ]
  },
  {
   "cell_type": "markdown",
   "metadata": {},
   "source": [
    "# Part 3: Variance Reduction"
   ]
  },
  {
   "cell_type": "code",
   "execution_count": 5,
   "metadata": {
    "collapsed": true
   },
   "outputs": [],
   "source": [
    "def geometric_Asian(S0,K,r,sigma,T,N,Z,call):\n",
    "    \"\"\"\n",
    "    Calculates the payoff of geometric Asian option simulations\n",
    "    \"\"\"\n",
    "    \n",
    "    mu = (r-0.5*sigma**2) * (N+1) * T / (2*N)\n",
    "    std = sigma * np.sqrt((N+1) * (2*N+1) * T / (6*N**2))\n",
    "    \n",
    "    S_G = S0*np.exp(mu + std*Z)\n",
    "    batch = np.maximum(0, S_G - K) if call else np.maximum(0,K - S_G)\n",
    "    return batch\n",
    "\n",
    "def arithmetic_Asian(S0,K,r,sigma,T,N,Z,call):\n",
    "    \"\"\"\n",
    "    Calculates the payoff of arithmetic Asian option simulations\n",
    "    \"\"\"\n",
    "    \n",
    "    dt = T / N\n",
    "    \n",
    "    mu = r*dt\n",
    "    std = sigma*np.sqrt(dt)\n",
    "    \n",
    "    M, N_sim, _ = Z.shape\n",
    "    batch = np.zeros((M,N_sim))\n",
    "    \n",
    "    S = np.zeros(N+1)\n",
    "    S[0] = S0\n",
    "    for m in range(M):\n",
    "        for n in range(N_sim):\n",
    "            for i in range(1,N+1):\n",
    "                S[i] = S[i-1] + S[i-1]*(mu + std*Z[m,n,i-1])\n",
    "            S_A = np.mean(S[1:])\n",
    "            batch[m,n] = max(0,S_A - K) if call else max(0,K - S_A)\n",
    "    \n",
    "    return batch\n",
    "\n",
    "def black_scholes_geometric_asian(S0,K,r,sigma,T,N,call=False):\n",
    "    mu = (r-0.5*sigma**2) * (N+1) * T / (2*N)\n",
    "    std = sigma * np.sqrt((N+1) * (2*N+1) * T / (6*N**2))\n",
    "    \n",
    "    d2 = (np.log(S0/K) + mu) / std\n",
    "    d1 = d2 + std\n",
    "    \n",
    "    discount = np.exp(mu+0.5*std**2-r*T)\n",
    "    if call:\n",
    "        price = S0*discount*norm.cdf(d1) - K*np.exp(-r*T)*norm.cdf(d2)\n",
    "        delta = discount*norm.cdf(d1)\n",
    "    else:\n",
    "        price = K*np.exp(-r*T)*norm.cdf(-d2) - S0*discount*norm.cdf(-d1)\n",
    "        delta = -discount*norm.cdf(-d1)\n",
    "    \n",
    "    return price,delta"
   ]
  },
  {
   "cell_type": "code",
   "execution_count": 6,
   "metadata": {},
   "outputs": [
    {
     "name": "stdout",
     "output_type": "stream",
     "text": [
      "Asian geometric call\n",
      "\n",
      "Mean: 6.340474\n",
      "Standard error: 0.000647\n",
      "\n",
      "Hedge parameter estimate: 0.625298\n",
      "Hedge parameter standard error: 0.000028\n",
      "\n",
      "Black-Scholes price: 6.340224\n",
      "Black-Scholes delta: 0.625284\n",
      "\n",
      "Asian geometric put\n",
      "\n",
      "Mean: 2.850569\n",
      "Standard error: 0.000491\n",
      "\n",
      "Hedge parameter estimate: -0.341948\n",
      "Hedge parameter standard error: 0.000028\n",
      "\n",
      "Black-Scholes price: 2.850401\n",
      "Black-Scholes delta: -0.341961\n"
     ]
    }
   ],
   "source": [
    "# Calculate Asian option value using Batch Monte Carlo\n",
    "S0, K = 100, 99\n",
    "r, sigma = 0.06, 0.2\n",
    "T, N = 1, 1000\n",
    "M, N_sim = 1000000, 30\n",
    "\n",
    "eps = 0.001\n",
    "\n",
    "seed = 12\n",
    "\n",
    "for call in [True,False]:\n",
    "    np.random.seed(seed)\n",
    "    unbumped = MC_option_values(S0,K,r,sigma,T,N,M,N_sim,call,payoff=geometric_Asian)\n",
    "    np.random.seed(seed)\n",
    "    bumped = MC_option_values(S0+eps,K,r,sigma,T,N,M,N_sim,call,payoff=geometric_Asian)\n",
    "\n",
    "    # Calculate delta from estimate means\n",
    "    deltas = (bumped[0]-unbumped[0]) / eps\n",
    "\n",
    "    mu_delta,std_delta = data_stats(deltas)\n",
    "\n",
    "    print(\"Asian geometric %s\\n\" % (\"call\" if call else \"put\"))\n",
    "    \n",
    "    print(\"Mean: %f\" % unbumped[1])\n",
    "    print(\"Standard error: %f\\n\" % unbumped[2])\n",
    "    print(\"Hedge parameter estimate: %f\" % mu_delta)\n",
    "    print(\"Hedge parameter standard error: %f\\n\" % std_delta)\n",
    "\n",
    "    price,delta = black_scholes_geometric_asian(S0,K,r,sigma,T,N,call)\n",
    "\n",
    "    print(\"Black-Scholes price: %f\" % price)\n",
    "    print(\"Black-Scholes delta: %f\" % delta)\n",
    "    \n",
    "    if call:\n",
    "        print(\"\")"
   ]
  }
 ],
 "metadata": {
  "kernelspec": {
   "display_name": "Python [default]",
   "language": "python",
   "name": "python3"
  },
  "language_info": {
   "codemirror_mode": {
    "name": "ipython",
    "version": 3
   },
   "file_extension": ".py",
   "mimetype": "text/x-python",
   "name": "python",
   "nbconvert_exporter": "python",
   "pygments_lexer": "ipython3",
   "version": "3.6.3"
  }
 },
 "nbformat": 4,
 "nbformat_minor": 2
}
