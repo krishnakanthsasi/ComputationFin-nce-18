{
 "cells": [
  {
   "cell_type": "markdown",
   "metadata": {},
   "source": [
    "# Computational Finance\n",
    "\n",
    "## Lab Assignment 2\n",
    "\n",
    "This notebook makes use of a python 3 environment by default.\n",
    "\n",
    "Authors:\n",
    "- Kevin de Vries\n",
    "- Jedda Boyle\n",
    "- Krishnakanth Sasi\n",
    "\n",
    "Student numbers:\n",
    "- 10579869\n",
    "- 11398221\n",
    "- 11391952"
   ]
  },
  {
   "cell_type": "code",
   "execution_count": 156,
   "metadata": {
    "collapsed": true
   },
   "outputs": [],
   "source": [
    "import numpy as np\n",
    "import matplotlib.pyplot as plt"
   ]
  },
  {
   "cell_type": "markdown",
   "metadata": {},
   "source": [
    "# Part 1: Basic Option Valuation"
   ]
  },
  {
   "cell_type": "code",
   "execution_count": 157,
   "metadata": {
    "collapsed": true
   },
   "outputs": [],
   "source": [
    "def MC_option_values(S0,K,r,sigma,T,M=1000,N_sim=1000,call=False,stats=True):\n",
    "    \"\"\"\n",
    "    Calculates a number of European option \n",
    "    values using a Monte Carlo method.\n",
    "    \n",
    "    The value is determined as the mean of a \n",
    "    batch of payoffs discounted with the interest rate.\n",
    "    \n",
    "    Returns the mean of the calculated options and its standard error\n",
    "    \"\"\"\n",
    "    eps = np.random.normal(0,1,(M,N_sim))\n",
    "    S_T = S0 * np.exp((r - sigma**2 / 2)*T + sigma*eps*np.sqrt(T))\n",
    "    batch = np.maximum(0, S_T - K) if call else np.maximum(0,K - S_T)\n",
    "    \n",
    "    values = np.exp(-r*T) * np.mean(batch,axis=0)\n",
    "    \n",
    "    if stats:\n",
    "        mean,std = data_stats(values)\n",
    "        return values,mean,std\n",
    "    else:\n",
    "        return values\n",
    "    \n",
    "def data_stats(data):\n",
    "    mean = np.mean(data)\n",
    "    var = np.sum((data-mean)**2) / (data.size - 1)\n",
    "    std_err = np.sqrt(var/data.size)\n",
    "    return mean,std_err"
   ]
  },
  {
   "cell_type": "code",
   "execution_count": 158,
   "metadata": {},
   "outputs": [
    {
     "name": "stdout",
     "output_type": "stream",
     "text": [
      "Mean: 4.779484\n",
      "Standard error: 0.001261\n"
     ]
    }
   ],
   "source": [
    "# Calculate European option value using Batch Monte Carlo\n",
    "S0, K = 100, 99\n",
    "r, sigma = 0.06, 0.2\n",
    "T, M = 1,20\n",
    "N_sim = 2000000\n",
    "\n",
    "# Option values and stats using mean payoffs\n",
    "values,mean,std = MC_option_values(S0,K,r,sigma,T,M,N_sim)\n",
    "\n",
    "print(\"Mean: %f\" % mean)\n",
    "print(\"Standard error: %f\" % std)"
   ]
  },
  {
   "cell_type": "code",
   "execution_count": 159,
   "metadata": {},
   "outputs": [
    {
     "data": {
      "image/png": "[encoded data removed]",
      "text/plain": [
       "<matplotlib.figure.Figure at 0x7f02776ee8d0>"
      ]
     },
     "metadata": {},
     "output_type": "display_data"
    }
   ],
   "source": [
    "N_bins = 200\n",
    "\n",
    "plt.hist(values,N_bins)\n",
    "plt.show()"
   ]
  },
  {
   "cell_type": "markdown",
   "metadata": {},
   "source": [
    "# Part 2: Estimation of Sensitivities in MC"
   ]
  },
  {
   "cell_type": "code",
   "execution_count": 160,
   "metadata": {},
   "outputs": [
    {
     "name": "stdout",
     "output_type": "stream",
     "text": [
      "Mean: 4.781863\n",
      "Standard error: 0.001785\n",
      "\n",
      "Hedge parameter estimate: -0.324964\n",
      "Hedge parameter standard error: 0.005008\n"
     ]
    }
   ],
   "source": [
    "# Calculate European option value using Batch Monte Carlo\n",
    "S0, K = 100, 99\n",
    "r, sigma = 0.06, 0.2\n",
    "T, M = 1,100\n",
    "call = False\n",
    "\n",
    "N_sim = 200000\n",
    "eps = 0.5\n",
    "\n",
    "# Option value and stats of unbumped\n",
    "unbumped = MC_option_values(S0,K,r,sigma,T,M,N_sim,call)\n",
    "\n",
    "# Option value and stats of bumped\n",
    "bumped = MC_option_values(S0+eps,K,r,sigma,T,M,N_sim,call)\n",
    "\n",
    "# Calculate delta from estimate means\n",
    "deltas = (bumped[0]-unbumped[0]) / eps\n",
    "\n",
    "mu_delta,std_delta = data_stats(deltas)\n",
    "\n",
    "print(\"Mean: %f\" % unbumped[1])\n",
    "print(\"Standard error: %f\\n\" % unbumped[2])\n",
    "print(\"Hedge parameter estimate: %f\" % mu_delta)\n",
    "print(\"Hedge parameter standard error: %f\" % std_delta)"
   ]
  },
  {
   "cell_type": "code",
   "execution_count": 161,
   "metadata": {},
   "outputs": [
    {
     "data": {
      "image/png": "[encoded data removed]",
      "text/plain": [
       "<matplotlib.figure.Figure at 0x7f0277bdaeb8>"
      ]
     },
     "metadata": {},
     "output_type": "display_data"
    }
   ],
   "source": [
    "N_bins = 200\n",
    "\n",
    "plt.hist(deltas,N_bins)\n",
    "plt.show()"
   ]
  },
  {
   "cell_type": "markdown",
   "metadata": {},
   "source": [
    "# Part 3: Variance Reduction"
   ]
  },
  {
   "cell_type": "code",
   "execution_count": null,
   "metadata": {
    "collapsed": true
   },
   "outputs": [],
   "source": []
  }
 ],
 "metadata": {
  "kernelspec": {
   "display_name": "Python [default]",
   "language": "python",
   "name": "python3"
  },
  "language_info": {
   "codemirror_mode": {
    "name": "ipython",
    "version": 3
   },
   "file_extension": ".py",
   "mimetype": "text/x-python",
   "name": "python",
   "nbconvert_exporter": "python",
   "pygments_lexer": "ipython3",
   "version": "3.6.3"
  }
 },
 "nbformat": 4,
 "nbformat_minor": 2
}
