{
 "cells": [
  {
   "cell_type": "markdown",
   "metadata": {},
   "source": [
    "# Computational Finance\n",
    "\n",
    "## Lab Assignment 2\n",
    "\n",
    "This notebook makes use of a python 3 environment by default.\n",
    "\n",
    "Authors:\n",
    "- Kevin de Vries\n",
    "- Jedda Boyle\n",
    "- Krishnakanth Sasi\n",
    "\n",
    "Student numbers:\n",
    "- 10579869\n",
    "- 11398221\n",
    "- 11391952"
   ]
  },
  {
   "cell_type": "code",
   "execution_count": 1,
   "metadata": {
    "collapsed": true
   },
   "outputs": [],
   "source": [
    "import numpy as np\n",
    "import matplotlib.pyplot as plt\n",
    "from scipy.stats import norm\n",
    "\n",
    "# Keeps results reproducible\n",
    "np.random.seed(23456)"
   ]
  },
  {
   "cell_type": "markdown",
   "metadata": {},
   "source": [
    "# Part 1: Basic Option Valuation"
   ]
  },
  {
   "cell_type": "code",
   "execution_count": 2,
   "metadata": {
    "collapsed": true
   },
   "outputs": [],
   "source": [
    "def European(S0,K,r,sigma,T,N,Z,call,path):\n",
    "    \"\"\"\n",
    "    Calculates the payoff of European option simulations\n",
    "    \"\"\"\n",
    "    \n",
    "    S_T = S0 * np.exp((r - sigma**2 / 2)*T + sigma*Z*np.sqrt(T))\n",
    "    batch = np.maximum(0, S_T - K) if call else np.maximum(0,K - S_T)\n",
    "    return batch\n",
    "\n",
    "def MC_option_values(S0,K,r,sigma,T,N,M=100000,N_sim=30,\n",
    "                     call=False,payoff=European,path=False,\n",
    "                     antithetic=True,control_variable=None,control_analytic=None,stats=True):\n",
    "    \"\"\"\n",
    "    Calculates a number of option values using a Monte Carlo method. \n",
    "    The option to use antithetic variables is on by default.\n",
    "    \n",
    "    The value is determined as the mean of a \n",
    "    batch of payoffs discounted with the interest rate.\n",
    "    \n",
    "    Returns the mean of the calculated options and its standard error\n",
    "    \n",
    "    call:\n",
    "        Determines if call or put option\n",
    "    payoff:\n",
    "        Function which calculates the payoff of the option style\n",
    "    path:\n",
    "        Determines if the full path of the stock price has to be simulated.\n",
    "    antithetic:\n",
    "        Determines if to apply variance reduction using antithetic variables\n",
    "    control_variable:\n",
    "        Function with option payoff to be used as control variable\n",
    "    control_analytic:\n",
    "        Function with the black-scholes price of the control variable\n",
    "    stats:\n",
    "        Determines if the mean and standard error of the option values are returned\n",
    "    \"\"\"\n",
    "    \n",
    "    if path:\n",
    "        Z = np.random.normal(0,1,(M,N_sim,N))\n",
    "    else:\n",
    "        Z = np.random.normal(0,1,(M,N_sim))\n",
    "    \n",
    "    batch = payoff(S0,K,r,sigma,T,N,Z,call,path)\n",
    "    values = np.exp(-r*T) * np.mean(batch,axis=0)\n",
    "    \n",
    "    if antithetic:\n",
    "        batch = payoff(S0,K,r,sigma,T,N,-Z,call,path)\n",
    "        values_min = np.exp(-r*T) * np.mean(batch,axis=0)\n",
    "        values = (values + values_min) / 2\n",
    "    \n",
    "    if control_variable:\n",
    "        batch = control_variable(S0,K,r,sigma,T,N,Z,call,path)\n",
    "        control = np.exp(-r*T) * np.mean(batch,axis=0)\n",
    "    \n",
    "        if antithetic:\n",
    "            batch = control_variable(S0,K,r,sigma,T,N,-Z,call,path)\n",
    "            control_min = np.exp(-r*T) * np.mean(batch,axis=0)\n",
    "            control = (control + control_min) / 2\n",
    "    \n",
    "        # Calculate analytic control variate option valuation\n",
    "        analytic, _ = control_analytic(S0,K,r,sigma,T,N)\n",
    "\n",
    "        # Minimize scale variable beta\n",
    "        control_centered = control-np.mean(control)\n",
    "        beta = np.sum( (values-np.mean(values)) * control_centered ) / np.sum(control_centered**2)\n",
    "        \n",
    "        values = values - beta*(control-analytic)\n",
    "    \n",
    "    if stats:\n",
    "        mean,std = data_stats(values)\n",
    "        return values,mean,std\n",
    "    else:\n",
    "        return values\n",
    "    \n",
    "def data_stats(data):\n",
    "    mean = np.mean(data)\n",
    "    var = np.sum((data-mean)**2) / (data.size - 1)\n",
    "    std_err = np.sqrt(var/data.size)\n",
    "    return mean,std_err"
   ]
  },
  {
   "cell_type": "code",
   "execution_count": 3,
   "metadata": {},
   "outputs": [
    {
     "name": "stdout",
     "output_type": "stream",
     "text": [
      "Mean: 4.789625\n",
      "Standard error: 0.013258\n",
      "Mean: 4.773392\n",
      "Standard error: 0.008631\n"
     ]
    }
   ],
   "source": [
    "# Calculate European option value using Batch Monte Carlo\n",
    "S0, K = 100, 99\n",
    "r, sigma = 0.06, 0.2\n",
    "T, N = 1, 1\n",
    "M, N_sim = 10000,30\n",
    "\n",
    "# Option values and stats using mean payoffs\n",
    "values,mean,std = MC_option_values(S0,K,r,sigma,T,N,M,N_sim,antithetic=False)\n",
    "\n",
    "print(\"Mean: %f\" % mean)\n",
    "print(\"Standard error: %f\" % std)\n",
    "\n",
    "# Option values and stats using mean payoffs with antithetic variables\n",
    "values,mean,std = MC_option_values(S0,K,r,sigma,T,N,M,N_sim)\n",
    "\n",
    "print(\"Mean: %f\" % mean)\n",
    "print(\"Standard error: %f\" % std)"
   ]
  },
  {
   "cell_type": "markdown",
   "metadata": {},
   "source": [
    "# Part 2: Estimation of Sensitivities in MC"
   ]
  },
  {
   "cell_type": "code",
   "execution_count": 4,
   "metadata": {
    "collapsed": true
   },
   "outputs": [],
   "source": [
    "def digital(S0,K,r,sigma,T,N,Z,call,path):\n",
    "    \"\"\"\n",
    "    Calculates the payoff of digital option simulations\n",
    "    which pay 1 euro when the option expires with the\n",
    "    stock price beyond the strike price.\n",
    "    \"\"\"\n",
    "    \n",
    "    S_T = S0 * np.exp((r - sigma**2 / 2)*T + sigma*Z*np.sqrt(T))\n",
    "    batch = np.zeros(Z.shape)\n",
    "    if call:\n",
    "        batch[S_T > K] = 1\n",
    "    else:\n",
    "        batch[S_T < K] = 1\n",
    "    \n",
    "    return batch"
   ]
  },
  {
   "cell_type": "code",
   "execution_count": 5,
   "metadata": {},
   "outputs": [
    {
     "name": "stdout",
     "output_type": "stream",
     "text": [
      "Different seeds:\n",
      "\n",
      "Mean: 4.777819\n",
      "Standard error: 0.002442\n",
      "\n",
      "Hedge parameter estimate: 2.441588\n",
      "Hedge parameter standard error: 3.556196\n",
      "\n",
      "Same seed:\n",
      "\n",
      "Mean: 4.780265\n",
      "Standard error: 0.002532\n",
      "\n",
      "Hedge parameter estimate: -0.326319\n",
      "Hedge parameter standard error: 0.000098\n"
     ]
    }
   ],
   "source": [
    "# Calculate European option value using Batch Monte Carlo\n",
    "S0, K = 100, 99\n",
    "r, sigma = 0.06, 0.2\n",
    "T, M = 1,100000\n",
    "call = False\n",
    "\n",
    "N_sim = 30\n",
    "eps = 0.001\n",
    "\n",
    "# Different seeds\n",
    "unbumped = MC_option_values(S0,K,r,sigma,T,N,M,N_sim,call)\n",
    "bumped = MC_option_values(S0+eps,K,r,sigma,T,N,M,N_sim,call)\n",
    "\n",
    "# Calculate delta from estimate means\n",
    "deltas = (bumped[0]-unbumped[0]) / eps\n",
    "\n",
    "mu_delta,std_delta = data_stats(deltas)\n",
    "\n",
    "print(\"Different seeds:\\n\")\n",
    "print(\"Mean: %f\" % unbumped[1])\n",
    "print(\"Standard error: %f\\n\" % unbumped[2])\n",
    "print(\"Hedge parameter estimate: %f\" % mu_delta)\n",
    "print(\"Hedge parameter standard error: %f\\n\" % std_delta)\n",
    "\n",
    "# Same seed\n",
    "seed = 12\n",
    "\n",
    "np.random.seed(seed)\n",
    "unbumped = MC_option_values(S0,K,r,sigma,T,N,M,N_sim,call)\n",
    "np.random.seed(seed)\n",
    "bumped = MC_option_values(S0+eps,K,r,sigma,T,N,M,N_sim,call)\n",
    "\n",
    "# Calculate delta from estimate means\n",
    "deltas = (bumped[0]-unbumped[0]) / eps\n",
    "\n",
    "mu_delta,std_delta = data_stats(deltas)\n",
    "\n",
    "print(\"Same seed:\\n\")\n",
    "print(\"Mean: %f\" % unbumped[1])\n",
    "print(\"Standard error: %f\\n\" % unbumped[2])\n",
    "print(\"Hedge parameter estimate: %f\" % mu_delta)\n",
    "print(\"Hedge parameter standard error: %f\" % std_delta)"
   ]
  },
  {
   "cell_type": "markdown",
   "metadata": {},
   "source": [
    "# Part 3: Variance Reduction"
   ]
  },
  {
   "cell_type": "code",
   "execution_count": 6,
   "metadata": {
    "collapsed": true
   },
   "outputs": [],
   "source": [
    "def geometric_Asian(S0,K,r,sigma,T,N,Z,call,path):\n",
    "    \"\"\"\n",
    "    Calculates the payoff of geometric Asian option simulations\n",
    "    \"\"\"\n",
    "    if path:\n",
    "        dt = T / N\n",
    "    \n",
    "        mu = (r-0.5*sigma**2)*dt\n",
    "        std = sigma*np.sqrt(dt)\n",
    "    \n",
    "        M, N_sim, _ = Z.shape\n",
    "        batch = np.zeros((M,N_sim))\n",
    "    \n",
    "        S = np.zeros(N+1)\n",
    "        S[0] = S0\n",
    "        for m in range(M):\n",
    "            for n in range(N_sim):\n",
    "                for i in range(1,N+1):\n",
    "                    S[i] = S[i-1]*np.exp(mu + std*Z[m,n,i-1])\n",
    "                S_G = np.prod(S[1:]**(1/N))\n",
    "                batch[m,n] = max(0,S_G - K) if call else max(0,K - S_G)\n",
    "    \n",
    "    else:\n",
    "        mu = (r-0.5*sigma**2) * (N+1) * T / (2*N)\n",
    "        std = sigma * np.sqrt((N+1) * (2*N+1) * T / (6*N**2))\n",
    "        \n",
    "        S_G = S0*np.exp(mu + std*Z)\n",
    "        batch = np.maximum(0, S_G - K) if call else np.maximum(0,K - S_G)\n",
    "    \n",
    "    return batch\n",
    "\n",
    "def arithmetic_Asian(S0,K,r,sigma,T,N,Z,call,path):\n",
    "    \"\"\"\n",
    "    Calculates the payoff of arithmetic Asian option simulations\n",
    "    \"\"\"\n",
    "    \n",
    "    dt = T / N\n",
    "    \n",
    "    mu = (r-0.5*sigma**2)*dt\n",
    "    std = sigma*np.sqrt(dt)\n",
    "    \n",
    "    M, N_sim, _ = Z.shape\n",
    "    batch = np.zeros((M,N_sim))\n",
    "    \n",
    "    S = np.zeros(N+1)\n",
    "    S[0] = S0\n",
    "    for m in range(M):\n",
    "        for n in range(N_sim):\n",
    "            for i in range(1,N+1):\n",
    "                S[i] = S[i-1]*np.exp(mu + std*Z[m,n,i-1])\n",
    "            S_A = np.mean(S[1:])\n",
    "            batch[m,n] = max(0,S_A - K) if call else max(0,K - S_A)\n",
    "    \n",
    "    return batch\n",
    "\n",
    "def black_scholes_geometric_asian(S0,K,r,sigma,T,N,call=False):\n",
    "    mu = (r-0.5*sigma**2) * (N+1) * T / (2*N)\n",
    "    std = sigma * np.sqrt((N+1) * (2*N+1) * T / (6*N**2))\n",
    "    \n",
    "    d2 = (np.log(S0/K) + mu) / std\n",
    "    d1 = d2 + std\n",
    "    \n",
    "    discount = np.exp(mu+0.5*std**2-r*T)\n",
    "    if call:\n",
    "        price = S0*discount*norm.cdf(d1) - K*np.exp(-r*T)*norm.cdf(d2)\n",
    "        delta = discount*norm.cdf(d1)\n",
    "    else:\n",
    "        price = K*np.exp(-r*T)*norm.cdf(-d2) - S0*discount*norm.cdf(-d1)\n",
    "        delta = -discount*norm.cdf(-d1)\n",
    "    \n",
    "    return price,delta"
   ]
  },
  {
   "cell_type": "code",
   "execution_count": 7,
   "metadata": {},
   "outputs": [
    {
     "name": "stdout",
     "output_type": "stream",
     "text": [
      "Asian geometric call\n",
      "\n",
      "Mean: 6.752416\n",
      "Standard error: 0.000695\n",
      "\n",
      "Hedge parameter estimate: 0.628818\n",
      "Hedge parameter standard error: 0.000027\n",
      "\n",
      "Black-Scholes price: 6.752147\n",
      "Black-Scholes delta: 0.628809\n",
      "\n",
      "Asian geometric put\n",
      "\n",
      "Mean: 3.021051\n",
      "Standard error: 0.000518\n",
      "\n",
      "Hedge parameter estimate: -0.340842\n",
      "Hedge parameter standard error: 0.000028\n",
      "\n",
      "Black-Scholes price: 3.020874\n",
      "Black-Scholes delta: -0.340850\n",
      "\n"
     ]
    }
   ],
   "source": [
    "# Calculate Asian option value using Batch Monte Carlo\n",
    "S0, K = 100, 99\n",
    "r, sigma = 0.06, 0.2\n",
    "T, N = 1, 12\n",
    "M, N_sim = 1000000, 30\n",
    "\n",
    "eps = 0.001\n",
    "\n",
    "seed = 12\n",
    "\n",
    "for call in [True,False]:\n",
    "    np.random.seed(seed)\n",
    "    unbumped = MC_option_values(S0,K,r,sigma,T,N,M,N_sim,call,payoff=geometric_Asian)\n",
    "    np.random.seed(seed)\n",
    "    bumped = MC_option_values(S0+eps,K,r,sigma,T,N,M,N_sim,call,payoff=geometric_Asian)\n",
    "\n",
    "    # Calculate delta from estimate means\n",
    "    deltas = (bumped[0]-unbumped[0]) / eps\n",
    "\n",
    "    mu_delta,std_delta = data_stats(deltas)\n",
    "\n",
    "    print(\"Asian geometric %s\\n\" % (\"call\" if call else \"put\"))\n",
    "    \n",
    "    print(\"Mean: %f\" % unbumped[1])\n",
    "    print(\"Standard error: %f\\n\" % unbumped[2])\n",
    "    print(\"Hedge parameter estimate: %f\" % mu_delta)\n",
    "    print(\"Hedge parameter standard error: %f\\n\" % std_delta)\n",
    "\n",
    "    price,delta = black_scholes_geometric_asian(S0,K,r,sigma,T,N,call)\n",
    "\n",
    "    print(\"Black-Scholes price: %f\" % price)\n",
    "    print(\"Black-Scholes delta: %f\\n\" % delta)"
   ]
  },
  {
   "cell_type": "code",
   "execution_count": 8,
   "metadata": {},
   "outputs": [],
   "source": [
    "# Analysis convergence geometric Asian option price\n",
    "\n",
    "S0, K = 100, 99\n",
    "r, sigma = 0.06, 0.2\n",
    "T, N = 1, 12\n",
    "N_sim = 30\n",
    "\n",
    "analytic, _ = black_scholes_geometric_asian(S0,K,r,sigma,T,N,call=False)\n",
    "\n",
    "M_vals = list(range(100,1000,100)) + list(range(1000,100001,1000))\n",
    "stats = np.zeros((len(M_vals), 2))\n",
    "for i in range(len(M_vals)):\n",
    "    _,mean,std = MC_option_values(S0,K,r,sigma,T,N,M_vals[i],N_sim,\n",
    "                                  call=False,payoff=geometric_Asian)\n",
    "    \n",
    "    stats[i,:] = mean, std"
   ]
  },
  {
   "cell_type": "code",
   "execution_count": 9,
   "metadata": {},
   "outputs": [
    {
     "name": "stdout",
     "output_type": "stream",
     "text": [
      "Black-Scholes price: 3.020874\n",
      "MC price estimate: 3.020630\n",
      "MC price standard error: 0.002220\n"
     ]
    },
    {
     "data": {
      "image/png": "[encoded data removed]",
      "text/plain": [
       "<matplotlib.figure.Figure at 0x7fa8547d65c0>"
      ]
     },
     "metadata": {},
     "output_type": "display_data"
    }
   ],
   "source": [
    "# Plot analysis results\n",
    "\n",
    "print(\"Black-Scholes price: %f\" % analytic)\n",
    "print(\"MC price estimate: %f\" % stats[-1,0])\n",
    "print(\"MC price standard error: %f\" % stats[-1,1])\n",
    "\n",
    "plt.figure(figsize=(18,6))\n",
    "plt.subplot(1,3,1)\n",
    "plt.title(\"Valuation estimation\")\n",
    "plt.xlabel(\"M\")\n",
    "plt.ylabel(\"Value\")\n",
    "plt.grid()\n",
    "plt.plot(M_vals,stats[:,0],label=\"Value estimate\")\n",
    "plt.fill_between(M_vals,stats[:,0]+stats[:,1],stats[:,0]-stats[:,1],\n",
    "                 color='r',alpha=0.25,label=\"Standard error\")\n",
    "\n",
    "plt.plot([0,M_vals[-1]],[analytic,analytic],label=\"Black-Scholes value\")\n",
    "plt.legend()\n",
    "plt.subplot(1,3,2)\n",
    "plt.title(\"Relative error of estimate\")\n",
    "plt.xlabel(\"M\")\n",
    "plt.ylabel(\"Relative error\")\n",
    "plt.grid()\n",
    "plt.plot(M_vals,abs((stats[:,0]-analytic) / analytic))\n",
    "plt.subplot(1,3,3)\n",
    "plt.title(\"Standard error of estimate\")\n",
    "plt.xlabel(\"M\")\n",
    "plt.ylabel(\"Standard error\")\n",
    "plt.grid()\n",
    "plt.plot(M_vals,stats[:,1])\n",
    "plt.show()"
   ]
  },
  {
   "cell_type": "code",
   "execution_count": 10,
   "metadata": {},
   "outputs": [
    {
     "name": "stdout",
     "output_type": "stream",
     "text": [
      "Arithmetic normal:\n",
      "\n",
      "Mean: 2.922167\n",
      "Standard error: 0.004621\n",
      "\n",
      "Arithmetic with control variable:\n",
      "\n",
      "Mean: 2.917534\n",
      "Standard error: 0.000121\n",
      "\n"
     ]
    }
   ],
   "source": [
    "# Control variate test\n",
    "S0, K = 100, 99\n",
    "r, sigma = 0.06, 0.2\n",
    "T, N = 1, 12\n",
    "M, N_sim = 10000, 30\n",
    "\n",
    "seed = 123\n",
    "np.random.seed(seed)\n",
    "\n",
    "# Arithmetic Asian option\n",
    "arithmetic = MC_option_values(S0,K,r,sigma,T,N,M,N_sim,\n",
    "                              payoff=arithmetic_Asian,path=True,antithetic=True)\n",
    "\n",
    "print(\"Arithmetic normal:\\n\")\n",
    "print(\"Mean: %f\" % arithmetic[1])\n",
    "print(\"Standard error: %f\\n\" % arithmetic[2])\n",
    "\n",
    "# Arithmetic Asian option with control variable\n",
    "control = MC_option_values(S0,K,r,sigma,T,N,M,N_sim,\n",
    "                           payoff=arithmetic_Asian,path=True,antithetic=True,\n",
    "                           control_variable=geometric_Asian,\n",
    "                           control_analytic=black_scholes_geometric_asian)\n",
    "\n",
    "\"\"\"\n",
    "cov = np.sum( (arithmetic[0]-arithmetic[1]) * geo_centered ) / (N_sim-1)\n",
    "varX = np.sum((arithmetic[0]-arithmetic[1])**2) / (N_sim-1)\n",
    "varY = np.sum(geo_centered**2) / (N_sim-1)\n",
    "corr = cov / np.sqrt(varX*varY)\n",
    "\n",
    "print(\"Correlation: %f\\n\" % corr)\n",
    "\"\"\"\n",
    "\n",
    "print(\"Arithmetic with control variable:\\n\")\n",
    "print(\"Mean: %f\" % control[1])\n",
    "print(\"Standard error: %f\\n\" % control[2])"
   ]
  },
  {
   "cell_type": "code",
   "execution_count": 11,
   "metadata": {},
   "outputs": [],
   "source": [
    "# Analysis convergence arithmetic Asian option price\n",
    "\n",
    "S0, K = 100, 99\n",
    "r, sigma = 0.06, 0.2\n",
    "T, N = 1, 12\n",
    "N_sim = 30\n",
    "\n",
    "M_vals = list(range(10,100,10)) + list(range(100,1000,100)) + list(range(1000,10001,1000))\n",
    "\n",
    "np.random.seed(12345)"
   ]
  },
  {
   "cell_type": "code",
   "execution_count": 12,
   "metadata": {},
   "outputs": [
    {
     "name": "stdout",
     "output_type": "stream",
     "text": [
      "Done\n"
     ]
    }
   ],
   "source": [
    "# Normal arithmetic asian option\n",
    "arithmetic = np.zeros((len(M_vals), 2))\n",
    "for i in range(len(M_vals)):\n",
    "    _,mean,std = MC_option_values(S0,K,r,sigma,T,N,M_vals[i],N_sim,\n",
    "                                  call=False,path=True,antithetic=False,payoff=arithmetic_Asian)\n",
    "    \n",
    "    arithmetic[i,:] = mean, std\n",
    "\n",
    "print(\"Done\")"
   ]
  },
  {
   "cell_type": "code",
   "execution_count": 13,
   "metadata": {},
   "outputs": [
    {
     "name": "stdout",
     "output_type": "stream",
     "text": [
      "Done\n"
     ]
    }
   ],
   "source": [
    "# Arithmetic asian option with control variates\n",
    "control = np.zeros((len(M_vals), 2))\n",
    "for i in range(len(M_vals)):\n",
    "    _,mean,std = MC_option_values(S0,K,r,sigma,T,N,M_vals[i],N_sim,\n",
    "                                  call=False,payoff=arithmetic_Asian,path=True,antithetic=False,\n",
    "                                  control_variable=geometric_Asian,\n",
    "                                  control_analytic=black_scholes_geometric_asian)\n",
    "    \n",
    "    control[i,:] = mean, std\n",
    "\n",
    "print(\"Done\")"
   ]
  },
  {
   "cell_type": "code",
   "execution_count": 15,
   "metadata": {},
   "outputs": [
    {
     "data": {
      "image/png": "[encoded data removed]",
      "text/plain": [
       "<matplotlib.figure.Figure at 0x7fa8525ac518>"
      ]
     },
     "metadata": {},
     "output_type": "display_data"
    }
   ],
   "source": [
    "# Plot analysis results\n",
    "\n",
    "plt.figure(figsize=(12,6))\n",
    "plt.subplot(1,2,1)\n",
    "plt.title(\"Valuation estimation\")\n",
    "plt.xlabel(\"M\")\n",
    "plt.ylabel(\"Value\")\n",
    "plt.grid()\n",
    "\n",
    "plt.errorbar(M_vals,arithmetic[:,0],arithmetic[:,1],label=\"Arithmetic Asian\")\n",
    "\"\"\"\n",
    "plt.plot(M_vals,arithmetic[:,0],'o-',label=\"Arithmetic Asian\")\n",
    "plt.fill_between(M_vals,arithmetic[:,0]+arithmetic[:,1],arithmetic[:,0]-arithmetic[:,1],\n",
    "                 color='r',alpha=0.25,label=\"Arithmetic Asian standard error\")\n",
    "\"\"\"\n",
    "\n",
    "plt.errorbar(M_vals,control[:,0],control[:,1],label=\"control variates\")\n",
    "\"\"\"\n",
    "plt.plot(M_vals,control[:,0],'o-',label=\"control variates\")\n",
    "plt.fill_between(M_vals,control[:,0]+control[:,1],control[:,0]-control[:,1],\n",
    "                 color='b',alpha=0.25,label=\"Control variates standard error\")\n",
    "\"\"\"\n",
    "\n",
    "plt.legend()\n",
    "plt.subplot(1,2,2)\n",
    "plt.title(\"Standard error of estimate\")\n",
    "plt.xlabel(\"M\")\n",
    "plt.ylabel(\"Standard error\")\n",
    "plt.grid()\n",
    "plt.plot(M_vals,arithmetic[:,1],label=\"Arithmetic Asian\")\n",
    "plt.plot(M_vals,control[:,1],label=\"Control variates\")\n",
    "plt.legend()\n",
    "\n",
    "plt.show()"
   ]
  }
 ],
 "metadata": {
  "kernelspec": {
   "display_name": "Python [default]",
   "language": "python",
   "name": "python3"
  },
  "language_info": {
   "codemirror_mode": {
    "name": "ipython",
    "version": 3
   },
   "file_extension": ".py",
   "mimetype": "text/x-python",
   "name": "python",
   "nbconvert_exporter": "python",
   "pygments_lexer": "ipython3",
   "version": "3.6.3"
  }
 },
 "nbformat": 4,
 "nbformat_minor": 2
}
