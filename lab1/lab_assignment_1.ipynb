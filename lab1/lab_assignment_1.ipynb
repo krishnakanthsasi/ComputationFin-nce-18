{
 "cells": [
  {
   "cell_type": "markdown",
   "metadata": {},
   "source": [
    "# Computational Finance\n",
    "\n",
    "## Lab Assignment 1\n",
    "\n",
    "Authors:\n",
    "- Kevin de Vries\n",
    "- Jed Boyle\n",
    "- Krishnakanth Sasi\n",
    "\n",
    "Student numbers:\n",
    "- 10579869\n",
    "- 00000000\n",
    "- 11391952"
   ]
  },
  {
   "cell_type": "code",
   "execution_count": 3,
   "metadata": {
    "collapsed": true
   },
   "outputs": [],
   "source": [
    "import matplotlib.pyplot as plt\n",
    "import numpy as np\n",
    "import math\n",
    "from scipy.stats import norm"
   ]
  },
  {
   "cell_type": "markdown",
   "metadata": {},
   "source": [
    "# Part 1: Option valuation"
   ]
  },
  {
   "cell_type": "code",
   "execution_count": 4,
   "metadata": {
    "collapsed": true
   },
   "outputs": [],
   "source": [
    "def payoff(S,K,call):\n",
    "    '''\n",
    "    Calculates the payoff of an option layer\n",
    "    '''\n",
    "    \n",
    "    f = S - K if call else K - S\n",
    "    f[f < 0] = 0\n",
    "    return f\n",
    "\n",
    "def option_valuation(S0,K,M,T,r,v,call=True,american=False):\n",
    "    '''\n",
    "    Calculates the option valuation from a given node.\n",
    "    Maturity is set to a period of one year.\n",
    "    \n",
    "    Parameters\n",
    "        S0: float\n",
    "            Current stock price\n",
    "        K: float\n",
    "            Strike price\n",
    "        M: float\n",
    "            Maturity of the option\n",
    "        T: int\n",
    "            Number of time steps\n",
    "        r: float\n",
    "            Interest rate\n",
    "        v: float\n",
    "            Volatility\n",
    "        call: Bool\n",
    "            Determines if option is a call or a put\n",
    "        american: Bool\n",
    "            Determines if option is American of European\n",
    "        \n",
    "    Returns\n",
    "        f: float\n",
    "            Option valuation\n",
    "        delta: float\n",
    "            Hedge parameter\n",
    "    '''\n",
    "    \n",
    "    # Time step length\n",
    "    dt = M / T\n",
    "    \n",
    "    # Calculate tree parameters\n",
    "    u = np.exp(v * np.sqrt(dt))\n",
    "    d = 1 / u\n",
    "    p = (np.exp(r * dt) - d) / (u - d)\n",
    "\n",
    "    # Stock prices at expiration\n",
    "    S = S0 * u**(np.arange(0,T+1) - np.arange(0,T+1)[::-1])\n",
    "    \n",
    "    # Call option value at expiration\n",
    "    f = payoff(S,K,call)\n",
    "    \n",
    "    for i in range(T-1):\n",
    "        f = np.exp(-r*dt) * (p*f[1:T-i+1] + (1-p)*f[0:T-i])\n",
    "        \n",
    "        # American option can be exercised before maturity.\n",
    "        # The highest possible payoff per node is thus considered risk neutral.\n",
    "        if american:\n",
    "            S = S0 * u**(np.arange(0,T-i) - np.arange(0,T-i)[::-1])\n",
    "            f_potential = payoff(S,K,call)\n",
    "            f = np.maximum(f,f_potential)\n",
    "            \n",
    "    delta = (f[1]-f[0]) / (S0*(u-d))\n",
    "    f = np.exp(-r*dt) * (p*f[1] + (1-p)*f[0])\n",
    "    \n",
    "    return f, delta\n",
    "\n",
    "# Black Scholes formula\n",
    "\n",
    "def blackScholes(r, K, T, S_0, sigma):\n",
    "    '''\n",
    "    Calculates the Hedge ratio, call price and put price\n",
    "    \n",
    "    Parameters\n",
    "        r: float\n",
    "            Interest rate\n",
    "        K: float\n",
    "            Strike price\n",
    "        T: int\n",
    "            Time of maturity\n",
    "        S_0: float\n",
    "            Current stock price\n",
    "        sigma: float\n",
    "            Volatility\n",
    "        \n",
    "    Returns\n",
    "        N1: float\n",
    "            Hedge ratio\n",
    "        c: float\n",
    "            Call price\n",
    "        p: float\n",
    "            Put price\n",
    "    '''\n",
    "    d1 = (math.log(S_0/K)+(r+(sigma**2)/2)*T)/sigma*(T**0.5)\n",
    "    d2 = d1-sigma*(T**0.5)\n",
    "    N1 = norm.cdf(d1)\n",
    "    N2 = norm.cdf(d2)\n",
    "    N3 = norm.cdf(-d1)\n",
    "    N4 = norm.cdf(-d2)\n",
    "    c = S_0*N1 - K*math.exp(-r*T)*N2\n",
    "    p = K*math.exp(-r*T)*N4 - S_0*N3\n",
    "    return N1, c, p "
   ]
  },
  {
   "cell_type": "code",
   "execution_count": 5,
   "metadata": {},
   "outputs": [
    {
     "name": "stdout",
     "output_type": "stream",
     "text": [
      "4.31901871652\n",
      "-0.393051801205\n"
     ]
    }
   ],
   "source": [
    "# Test option valuation on the example in the slides\n",
    "\n",
    "f,delta = option_valuation(50,50,5/12,5,0.1,0.4,call=False)\n",
    "print(f)\n",
    "print(delta)"
   ]
  },
  {
   "cell_type": "code",
   "execution_count": 6,
   "metadata": {},
   "outputs": [
    {
     "name": "stdout",
     "output_type": "stream",
     "text": [
      "11.5464348508\n",
      "0.672556964605\n"
     ]
    }
   ],
   "source": [
    "# Test option valuation on the initial parameters in the assignment\n",
    "# Analytical value of valuation was supposedly ~11.4 according to the lecturer\n",
    "\n",
    "cur, strike = 100.0, 99\n",
    "volatility, interest = 0.2, 0.06\n",
    "maturity, steps = 1, 50\n",
    "\n",
    "f,delta = option_valuation(cur,strike,maturity,steps,interest,volatility)\n",
    "\n",
    "print(f)\n",
    "print(delta)"
   ]
  },
  {
   "cell_type": "code",
   "execution_count": 7,
   "metadata": {},
   "outputs": [
    {
     "name": "stdout",
     "output_type": "stream",
     "text": [
      "5.34776349842\n",
      "-0.382039156259\n"
     ]
    }
   ],
   "source": [
    "# Test option valuation on the initial parameters in the assignment using American option\n",
    "\n",
    "cur, strike = 100.0, 99.0\n",
    "volatility, interest = 0.2, 0.06\n",
    "maturity, steps = 1, 50\n",
    "\n",
    "f,delta = option_valuation(cur,strike,maturity,steps,interest,volatility,call=False,american=True)\n",
    "\n",
    "print(f)\n",
    "print(delta)"
   ]
  },
  {
   "cell_type": "code",
   "execution_count": 8,
   "metadata": {},
   "outputs": [
    {
     "name": "stdout",
     "output_type": "stream",
     "text": [
      "Hedge ratio is 0.673736\n",
      "Call price is 11.544280\n"
     ]
    }
   ],
   "source": [
    "r = 0.06 # interest rate\n",
    "K = 99 # strike price\n",
    "T = 1 # time of maturity\n",
    "S_0 = 100 # current stock price\n",
    "sigma = 0.2 # volatility\n",
    "\n",
    "hedgeRatio, callPrice, putPrice =  blackScholes(r, K, T, S_0, sigma) #returns the analytic values \n",
    "\n",
    "print(\"Hedge ratio is %f\" % hedgeRatio)\n",
    "print(\"Call price is %f\" % callPrice)"
   ]
  },
  {
   "cell_type": "markdown",
   "metadata": {},
   "source": [
    "# Part 2: Hedging Simulations"
   ]
  },
  {
   "cell_type": "code",
   "execution_count": null,
   "metadata": {
    "collapsed": true
   },
   "outputs": [],
   "source": []
  }
 ],
 "metadata": {
  "kernelspec": {
   "display_name": "Python 3",
   "language": "python",
   "name": "python3"
  },
  "language_info": {
   "codemirror_mode": {
    "name": "ipython",
    "version": 3
   },
   "file_extension": ".py",
   "mimetype": "text/x-python",
   "name": "python",
   "nbconvert_exporter": "python",
   "pygments_lexer": "ipython3",
   "version": "3.6.3"
  }
 },
 "nbformat": 4,
 "nbformat_minor": 2
}
