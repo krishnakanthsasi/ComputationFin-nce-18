{
 "cells": [
  {
   "cell_type": "markdown",
   "metadata": {},
   "source": [
    "# Computational Finance\n",
    "\n",
    "## Lab Assignment 1\n",
    "\n",
    "Authors:\n",
    "- Kevin de Vries\n",
    "- Jed Boyle\n",
    "- Krish\n",
    "\n",
    "Student numbers:\n",
    "- 10579869\n",
    "- 00000000\n",
    "- 00000000"
   ]
  },
  {
   "cell_type": "code",
   "execution_count": 2,
   "metadata": {
    "collapsed": true
   },
   "outputs": [],
   "source": [
    "import matplotlib.pyplot as plt\n",
    "import numpy as np"
   ]
  },
  {
   "cell_type": "markdown",
   "metadata": {},
   "source": [
    "# Part 1: Option valuation"
   ]
  },
  {
   "cell_type": "code",
   "execution_count": 64,
   "metadata": {
    "collapsed": true
   },
   "outputs": [],
   "source": [
    "def tree_parameters(v,r,dt):\n",
    "    '''\n",
    "    Calculates the tree parameters for the \n",
    "    binomial tree model for option valuation.\n",
    "    \n",
    "    Parameters\n",
    "        v: float\n",
    "            Volatility\n",
    "        r: float\n",
    "            Interest rate\n",
    "        dt: float\n",
    "            Time step length\n",
    "            \n",
    "    Returns\n",
    "        u: float\n",
    "            Upward stock price movement\n",
    "        d: float\n",
    "            Downward stock price movement\n",
    "        p: float\n",
    "            Probability of upward stock price movement\n",
    "    '''\n",
    "\n",
    "    u = np.exp(v * np.sqrt(dt))\n",
    "    d = 1 / u\n",
    "    p = (np.exp(r * dt) - d) / (u - d)\n",
    "    \n",
    "    return u,d,p\n",
    "    \n",
    "def option_valuation(S0,K,M,T,r,v,call=True):\n",
    "    '''\n",
    "    Calculates the option valuation from a given node.\n",
    "    Maturity is set to a period of one year.\n",
    "    \n",
    "    Parameters\n",
    "        S0: float\n",
    "            Current stock price\n",
    "        K: float\n",
    "            Strike price\n",
    "        M: float\n",
    "            Maturity of the option\n",
    "        T: int\n",
    "            Number of time steps\n",
    "        r: float\n",
    "            Interest rate\n",
    "        v: float\n",
    "            Volatility\n",
    "        call: Bool\n",
    "            Determines if option is a call or a put\n",
    "        \n",
    "    Returns\n",
    "        f: float\n",
    "            Option valuation\n",
    "        delta: float\n",
    "            Hedge parameter\n",
    "    '''\n",
    "    \n",
    "    # Time step length\n",
    "    dt = M / T\n",
    "    \n",
    "    # Calculate tree parameters\n",
    "    u,d,p = tree_parameters(v,r,dt)\n",
    "\n",
    "    # Stock prices at expiration\n",
    "    S = S0 * u**np.arange(0,T+1) * d**(T-np.arange(0,T+1))\n",
    "    \n",
    "    #print(S)\n",
    "    \n",
    "    # Call option value at expiration\n",
    "    if call:\n",
    "        f = S - K\n",
    "    else:\n",
    "        f = K - S\n",
    "    \n",
    "    # Set minimum option value to 0\n",
    "    f[f < 0] = 0\n",
    "    \n",
    "    for i in range(T-1):\n",
    "        #print(f)\n",
    "        f = np.exp(-r*dt) * (p*f[1:T-i+1] + (1-p)*f[0:T-i])\n",
    "    \n",
    "    delta = (f[1]-f[0]) / (S0*(u-d))\n",
    "    f = np.exp(-r*dt) * (p*f[1] + (1-p)*f[0])\n",
    "    \n",
    "    return f, delta"
   ]
  },
  {
   "cell_type": "code",
   "execution_count": 63,
   "metadata": {},
   "outputs": [
    {
     "name": "stdout",
     "output_type": "stream",
     "text": [
      "4.31901871652\n",
      "-0.393051801205\n"
     ]
    }
   ],
   "source": [
    "# Test option valuation on the example in the slides\n",
    "\n",
    "f,delta = option_valuation(50,50,5/12,5,0.1,0.4,call=False)\n",
    "print(f)\n",
    "print(delta)"
   ]
  },
  {
   "cell_type": "code",
   "execution_count": 62,
   "metadata": {},
   "outputs": [
    {
     "name": "stdout",
     "output_type": "stream",
     "text": [
      "11.5464348508\n",
      "0.672556964605\n"
     ]
    }
   ],
   "source": [
    "# Test option valuation on the initial parameters in the assignment\n",
    "# Analytical value of valuation was supposedly ~11.4 according to the lecturer\n",
    "\n",
    "cur, strike = 100.0, 99.0\n",
    "volatility, interest = 0.2, 0.06\n",
    "maturity, steps = 1, 50\n",
    "\n",
    "f,delta = option_valuation(cur,strike,maturity,steps,interest,volatility)\n",
    "\n",
    "print(f)\n",
    "print(delta)"
   ]
  },
  {
   "cell_type": "markdown",
   "metadata": {},
   "source": [
    "# Part 2: Hedging Simulations"
   ]
  },
  {
   "cell_type": "code",
   "execution_count": null,
   "metadata": {
    "collapsed": true
   },
   "outputs": [],
   "source": []
  }
 ],
 "metadata": {
  "kernelspec": {
   "display_name": "Python [default]",
   "language": "python",
   "name": "python3"
  },
  "language_info": {
   "codemirror_mode": {
    "name": "ipython",
    "version": 3
   },
   "file_extension": ".py",
   "mimetype": "text/x-python",
   "name": "python",
   "nbconvert_exporter": "python",
   "pygments_lexer": "ipython3",
   "version": "3.6.3"
  }
 },
 "nbformat": 4,
 "nbformat_minor": 2
}
