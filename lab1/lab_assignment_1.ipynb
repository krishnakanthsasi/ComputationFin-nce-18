{
 "cells": [
  {
   "cell_type": "markdown",
   "metadata": {},
   "source": [
    "# Computational Finance\n",
    "\n",
    "## Lab Assignment 1\n",
    "\n",
    "Authors:\n",
    "- Kevin de Vries\n",
    "- Jed Boyle\n",
    "- Krish\n",
    "\n",
    "Student numbers:\n",
    "- 10579869\n",
    "- 00000000\n",
    "- 00000000"
   ]
  },
  {
   "cell_type": "code",
   "execution_count": 60,
   "metadata": {
    "collapsed": true
   },
   "outputs": [],
   "source": [
    "import matplotlib.pyplot as plt\n",
    "import numpy as np"
   ]
  },
  {
   "cell_type": "markdown",
   "metadata": {},
   "source": [
    "# Part 1: Option valuation"
   ]
  },
  {
   "cell_type": "code",
   "execution_count": 61,
   "metadata": {
    "collapsed": true
   },
   "outputs": [],
   "source": [
    "def tree_parameters(v,r,dt):\n",
    "    '''\n",
    "    Calculates the tree parameters for the \n",
    "    binomial tree model for option valuation.\n",
    "    \n",
    "    v: float\n",
    "        Volatility\n",
    "    r: float\n",
    "        Interest rate\n",
    "    dt: float\n",
    "        Time step length\n",
    "    '''\n",
    "\n",
    "    u = np.exp(v * np.sqrt(dt))\n",
    "    d = 1 / u\n",
    "    p = (np.exp(r * dt) - d) / (u - d)\n",
    "    \n",
    "    return u,d,p\n",
    "    \n",
    "def option_valuation(S0,K,N,r,v,dt,call=True):\n",
    "    '''\n",
    "    Calculates the option valuation from a given node.\n",
    "    \n",
    "    S0: float\n",
    "        Current stock price\n",
    "    K: float\n",
    "        Strike price\n",
    "    N: int\n",
    "        Number of time steps\n",
    "    r: float\n",
    "        Interest rate\n",
    "    v: float\n",
    "        Volatility\n",
    "    dt: float\n",
    "        Time step length\n",
    "    call: Bool\n",
    "        Determines if option is a call or a put\n",
    "    '''\n",
    "    \n",
    "    # Calculate tree parameters\n",
    "    u,d,p = tree_parameters(v,r,dt)\n",
    "    \n",
    "    #u,d,p = 1.1224,0.8909,0.5076\n",
    "\n",
    "    # Stock prices at expiration\n",
    "    S = S0 * u**np.arange(0,N+1) * d**(N-np.arange(0,N+1))\n",
    "    \n",
    "    #print(S)\n",
    "    \n",
    "    # Call option value at expiration\n",
    "    if call:\n",
    "        f = S - K\n",
    "    else:\n",
    "        f = K - S\n",
    "    \n",
    "    # Set minimum option value to 0\n",
    "    f[f < 0] = 0\n",
    "    \n",
    "    for i in range(N):\n",
    "        #print(f)\n",
    "        f = np.exp(-r*dt) * (p*f[1:N-i+1] + (1-p)*f[0:N-i])\n",
    "        \n",
    "    return f.squeeze()"
   ]
  },
  {
   "cell_type": "code",
   "execution_count": 62,
   "metadata": {},
   "outputs": [
    {
     "name": "stdout",
     "output_type": "stream",
     "text": [
      "4.31901871651582\n"
     ]
    }
   ],
   "source": [
    "# Test option valuation on the example in the slides\n",
    "f = option_valuation(50,50,5,0.1,0.4,1/12,call=False)\n",
    "print(f)"
   ]
  },
  {
   "cell_type": "markdown",
   "metadata": {},
   "source": [
    "# Part 2: Hedging Simulations"
   ]
  },
  {
   "cell_type": "code",
   "execution_count": null,
   "metadata": {
    "collapsed": true
   },
   "outputs": [],
   "source": []
  }
 ],
 "metadata": {
  "kernelspec": {
   "display_name": "Python [default]",
   "language": "python",
   "name": "python3"
  },
  "language_info": {
   "codemirror_mode": {
    "name": "ipython",
    "version": 3
   },
   "file_extension": ".py",
   "mimetype": "text/x-python",
   "name": "python",
   "nbconvert_exporter": "python",
   "pygments_lexer": "ipython3",
   "version": "3.6.3"
  }
 },
 "nbformat": 4,
 "nbformat_minor": 2
}
