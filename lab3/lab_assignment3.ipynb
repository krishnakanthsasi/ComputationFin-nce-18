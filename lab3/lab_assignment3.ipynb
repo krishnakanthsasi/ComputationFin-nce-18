{
 "cells": [
  {
   "cell_type": "markdown",
   "metadata": {},
   "source": [
    "# Computational Finance\n",
    "\n",
    "## Lab Assignment 2\n",
    "\n",
    "This notebook makes use of python 3 environment by default.\n",
    "\n",
    "Authors:\n",
    "   - Kevin\n",
    "   - Jed\n",
    "   - Krishnakanth\n",
    "   \n",
    "Student Numbers:\n",
    "   - 10579869\n",
    "   - 11398221\n",
    "   - 11391952"
   ]
  },
  {
   "cell_type": "code",
   "execution_count": 36,
   "metadata": {
    "collapsed": true
   },
   "outputs": [],
   "source": [
    "from scipy.sparse import diags\n",
    "import numpy as np\n",
    "from numpy.linalg import inv"
   ]
  },
  {
   "cell_type": "code",
   "execution_count": 21,
   "metadata": {},
   "outputs": [],
   "source": [
    "class PDE(object):\n",
    "    def __init__(self, sigma, r, dtau, dx, dim, pde):\n",
    "        self.sigma = sigma\n",
    "        self.risk = r\n",
    "        self.dtau = dtau\n",
    "        self.dx = dx\n",
    "        self.N = dim\n",
    "        self.pde = pde # String representing the scheme"
   ]
  },
  {
   "cell_type": "code",
   "execution_count": 32,
   "metadata": {
    "collapsed": true
   },
   "outputs": [],
   "source": [
    "def create_params(self):\n",
    "    \"\"\"\n",
    "    Creates and stores a and b parameters as tuples in self\n",
    "    \"\"\"\n",
    "    AF0 = 1 - (self.sigma**2)*dtau/dx^2 - r*dtau\n",
    "    P1 = -(r - 0.5*(self.sigma**2))*dtau/(2*dx) + 0.5*(self.sigma**2)*dtau/dx**2\n",
    "    P2 = (r - 0.5*(self.sigma**2))*dtau/(2*dx) + 0.5*(self.sigma**2)*dtau/dx**2\n",
    "    AC0 = 1 - 0.5*(self.sigma**2)*dtau/dx^2 - 0.5*r*dtau\n",
    "    BC0 = 1 + 0.5*(self.sigma**2)*dtau/dx^2 + 0.5*r*dtau\n",
    "    if self.pde == \"FTCS\":\n",
    "        self.a = [P1, AF0, P2]\n",
    "        self.b = [0, 1, 0]\n",
    "    if self.pde == \"Crank_Nicolson\":\n",
    "        self.a = [P1*0.5, AC0, P2*0.5]\n",
    "        self.b = [-P1*0.5, BC0, -P2*0.5]\n"
   ]
  },
  {
   "cell_type": "code",
   "execution_count": 33,
   "metadata": {
    "collapsed": true
   },
   "outputs": [],
   "source": [
    "PDE.create_params = create_params"
   ]
  },
  {
   "cell_type": "code",
   "execution_count": 39,
   "metadata": {},
   "outputs": [],
   "source": [
    "def BMatrix(self):\n",
    "    \"\"\"\n",
    "    Creates and stores inverse of a B matrix in an object\n",
    "    \"\"\"\n",
    "    bminus, b , bplus = self.b\n",
    "    diagonals = [b0*np.ones(dim), bplus*np.ones(dim-1), bminus*np.ones(dim-1)]\n",
    "    self.Binv = inv(diags(diagonals, [0, 1, -1]).toarray())"
   ]
  }
 ],
 "metadata": {
  "kernelspec": {
   "display_name": "Python 3",
   "language": "python",
   "name": "python3"
  },
  "language_info": {
   "codemirror_mode": {
    "name": "ipython",
    "version": 3
   },
   "file_extension": ".py",
   "mimetype": "text/x-python",
   "name": "python",
   "nbconvert_exporter": "python",
   "pygments_lexer": "ipython3",
   "version": "3.6.3"
  }
 },
 "nbformat": 4,
 "nbformat_minor": 2
}
