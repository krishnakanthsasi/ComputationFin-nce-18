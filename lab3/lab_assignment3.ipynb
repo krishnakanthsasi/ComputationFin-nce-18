{
 "cells": [
  {
   "cell_type": "markdown",
   "metadata": {},
   "source": [
    "# Computational Finance\n",
    "\n",
    "## Lab Assignment 2\n",
    "\n",
    "This notebook makes use of python 3 environment by default.\n",
    "Authors:\n",
    "   - Kevin\n",
    "   - Jed\n",
    "   - Krishnakanth\n",
    "   \n",
    "Student Numbers:\n",
    "   - 10579869\n",
    "   - 11398221\n",
    "   - 11391952"
   ]
  },
  {
   "cell_type": "code",
   "execution_count": null,
   "metadata": {
    "collapsed": true
   },
   "outputs": [],
   "source": [
    "from scipy.sparse import diags\n",
    "class PDA(object):\n",
    "    def __init__(self, sigma, r, dtau, dx, pda):\n",
    "        self.sigma = sigma\n",
    "        self.risk = r\n",
    "        self.dtau = dtau\n",
    "        self.dx = dx\n",
    "        self.pda = pda # String representing the scheme\n",
    "    \n",
    "    \n",
    "    def create_As(self):\n",
    "        if self.pda = \"FTCS\":\n",
    "            self.a0 = 1 - (self.sigma**2)*dtau/dx^2 - r*dtau\n",
    "            self.a_plus = (r - 0.5*(self.sigma**2))*dtau/(2*dx) + 0.5*(self.sigma**2)*dtau/dx**2\n",
    "            self.a_minus = -(r - 0.5*(self.sigma**2))*dtau/(2*dx) + 0.5*(self.sigma**2)*dtau/dx**2\n",
    "\n",
    "    def createAmatrix(self):\n",
    "        pass\n",
    "    \n",
    "    def create_Bs(self):\n",
    "        pass\n",
    "    \n",
    "    def createBmatric(self):\n",
    "        pass\n",
    "        \n",
    "        "
   ]
  }
 ],
 "metadata": {
  "kernelspec": {
   "display_name": "Python 3",
   "language": "python",
   "name": "python3"
  },
  "language_info": {
   "codemirror_mode": {
    "name": "ipython",
    "version": 3
   },
   "file_extension": ".py",
   "mimetype": "text/x-python",
   "name": "python",
   "nbconvert_exporter": "python",
   "pygments_lexer": "ipython3",
   "version": "3.6.3"
  }
 },
 "nbformat": 4,
 "nbformat_minor": 2
}
