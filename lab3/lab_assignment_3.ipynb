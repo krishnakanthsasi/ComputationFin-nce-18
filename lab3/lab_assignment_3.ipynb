{
 "cells": [
  {
   "cell_type": "markdown",
   "metadata": {},
   "source": [
    "# Computational Finance\n",
    "\n",
    "## Lab Assignment 3\n",
    "\n",
    "This notebook makes use of python 3 environment by default.\n",
    "\n",
    "Authors:\n",
    "   - Kevin de Vries\n",
    "   - Jedda Boyle\n",
    "   - Krishnakanth Sasi\n",
    "   \n",
    "Student Numbers:\n",
    "   - 10579869\n",
    "   - 11398221\n",
    "   - 11391952"
   ]
  },
  {
   "cell_type": "code",
   "execution_count": 120,
   "metadata": {
    "collapsed": true
   },
   "outputs": [],
   "source": [
    "import matplotlib.pyplot as plt\n",
    "import numpy as np\n",
    "\n",
    "from scipy.sparse import diags\n",
    "from scipy.stats import norm\n",
    "from numpy.linalg import inv"
   ]
  },
  {
   "cell_type": "code",
   "execution_count": 121,
   "metadata": {
    "collapsed": true
   },
   "outputs": [],
   "source": [
    "class PDE(object):\n",
    "    def __init__(self, K, sigma, r, T, X_bounds, N, M, scheme, boundary):\n",
    "        \"\"\"\n",
    "        Initializes the PDE object\n",
    "        \n",
    "        K: integer/float\n",
    "            Strike price\n",
    "        sigma: float\n",
    "            Volatility\n",
    "        r: float\n",
    "            Risk free interest rate\n",
    "        T: integer/float\n",
    "            Time until maturity\n",
    "        S_bounds: tuple\n",
    "            (minimum, maximum) stock price\n",
    "        N: integer\n",
    "            Number of time nodes\n",
    "        M: integer\n",
    "            Number of space nodes\n",
    "        scheme: String\n",
    "            String containing the Finite Difference scheme to use\n",
    "        boundary: String\n",
    "            String containing the boundary value type to use\n",
    "        \"\"\"\n",
    "        \n",
    "        # Set parameters\n",
    "        self.sigma = sigma\n",
    "        self.r = r\n",
    "        self.K = K\n",
    "        self.T = T\n",
    "        \n",
    "        # Calculate time steps\n",
    "        self.dtau = T / N\n",
    "        \n",
    "        # Calculate boundaries of X and step size of X\n",
    "        self.Xmin = np.log(S_bounds[0])\n",
    "        self.Xmax = np.log(S_bounds[1])\n",
    "        self.dx = (self.Xmax-self.Xmin) / (M-1)\n",
    "        \n",
    "        # Set dimensions of the mesh grid\n",
    "        self.N = N\n",
    "        self.M = M\n",
    "        \n",
    "        # Set scheme type\n",
    "        self.scheme = scheme\n",
    "        \n",
    "        # Set boundary value type\n",
    "        self.boundary = boundary\n",
    "        \n",
    "        # Initialize Value matrix and calculate initial values\n",
    "        self.V = np.zeros((M,N+1))\n",
    "        self.V[:,0] = np.maximum(np.exp(self.Xmin + self.dx*np.arange(0,M)) - K, 0)\n",
    "                \n",
    "    def run(self):\n",
    "        \"\"\"\n",
    "        Run the finite difference solver\n",
    "        \"\"\"\n",
    "        \n",
    "        # Set parameters\n",
    "        r = self.r\n",
    "        sigma = self.sigma\n",
    "        K = self.K\n",
    "        T = self.T\n",
    "        dx = self.dx\n",
    "        dtau = self.dtau\n",
    "        \n",
    "        self.create_params()\n",
    "        \n",
    "        aplus = self.a[2]\n",
    "        \n",
    "        if scheme == \"Crank_Nicolson\":\n",
    "            self.BMatrix()\n",
    "        \n",
    "        if self.boundary == \"Neumann\":\n",
    "            k = (r - 0.5*sigma**2 + sigma**2 / dx) * dtau * np.exp(self.Xmax)\n",
    "        \n",
    "        for n in range(1,self.N+1):\n",
    "            \n",
    "            if self.boundary == \"Dirichlet\":\n",
    "                k = aplus*(np.exp(self.Xmax+dx) - K*np.exp(-r*(T-n*dtau)))\n",
    "                if scheme == \"Crank_Nicolson\":\n",
    "                    k *= 2\n",
    "\n",
    "            self.V[:,n] = self.AprodV(self.V[:,n-1])\n",
    "            self.V[-1, n] += k\n",
    "            \n",
    "            if scheme == \"Crank_Nicolson\":\n",
    "                self.V[:,n] = self.Binv @ self.V[:,n]"
   ]
  },
  {
   "cell_type": "code",
   "execution_count": 122,
   "metadata": {
    "collapsed": true
   },
   "outputs": [],
   "source": [
    "# Krish's functions section\n",
    "\n",
    "def create_params(self):\n",
    "    \"\"\"\n",
    "    Creates and stores a and b parameters as tuples in self\n",
    "    \"\"\"\n",
    "    \n",
    "    # Shorten object parameters\n",
    "    r = self.r\n",
    "    sigma = self.sigma\n",
    "    dtau = self.dtau\n",
    "    dx = self.dx\n",
    "    \n",
    "    # a0 for FTCS\n",
    "    AF0 = 1 - (sigma**2)*dtau/dx**2 - r*dtau\n",
    "    \n",
    "    # Plus and minus components for both a and b and for both schemes\n",
    "    P1 = 0.5 * ( (sigma**2)*dtau/dx**2 - (r - 0.5*(sigma**2))*dtau/dx )\n",
    "    P2 = 0.5 * ( (sigma**2)*dtau/dx**2 + (r - 0.5*(sigma**2))*dtau/dx )\n",
    "    \n",
    "    # a0 and b0 for Crank-Nicolson scheme\n",
    "    AC0 = 1 - 0.5*(sigma**2)*dtau/dx**2 - 0.5*r*dtau\n",
    "    BC0 = 1 + 0.5*(sigma**2)*dtau/dx**2 + 0.5*r*dtau\n",
    "    \n",
    "    if self.scheme == \"FTCS\":\n",
    "        self.a = [P1, AF0, P2]\n",
    "        self.b = [0, 1, 0]\n",
    "    if self.scheme == \"Crank_Nicolson\":\n",
    "        self.a = [P1*0.5, AC0, P2*0.5]\n",
    "        self.b = [-P1*0.5, BC0, -P2*0.5]\n",
    "\n",
    "def BMatrix(self):\n",
    "    \"\"\"\n",
    "    Creates and stores inverse of a B matrix in an object\n",
    "    \"\"\"\n",
    "    bmin, b0 , bplus = self.b\n",
    "    \n",
    "    diagonals = [b0*np.ones(self.M), bplus*np.ones(self.M-1), bmin*np.ones(self.M-1)]\n",
    "    \n",
    "    self.B = diags(diagonals, [0, 1, -1]).toarray()\n",
    "    \n",
    "    # Change bmin for last V when using Von Neumann boundary conditions\n",
    "    if self.boundary == \"Neumann\":\n",
    "        self.B[-1,-2] = -0.5 * self.sigma**2 * self.dtau / self.dx**2\n",
    "    \n",
    "    self.Binv = inv(self.B)"
   ]
  },
  {
   "cell_type": "code",
   "execution_count": 123,
   "metadata": {
    "collapsed": true
   },
   "outputs": [],
   "source": [
    "# Kevin's code section\n",
    "\n",
    "def AprodV(self,v):\n",
    "    \"\"\"\n",
    "    Calculates the sparse matrix product of A with v\n",
    "    \"\"\"\n",
    "    amin, a0, aplus = self.a\n",
    "    \n",
    "    res = np.zeros(v.size)\n",
    "    \n",
    "    # Calculate v_1 and v_M using boundary conditions\n",
    "    res[0] = a0*v[0] + aplus*v[1]\n",
    "    \n",
    "    if self.boundary == \"Neumann\":\n",
    "        # Change product calculation in last row\n",
    "        temp = self.sigma**2 * self.dtau / self.dx**2\n",
    "        \n",
    "        if self.scheme == \"Crank_Nicolson\":\n",
    "            temp *= 0.5\n",
    "        \n",
    "        res[v.size-1] = temp*v[-2] + a0*v[-1]\n",
    "        \n",
    "    elif self.boundary == \"Dirichlet\":\n",
    "        res[v.size-1] = amin*v[-2] + a0*v[-1]\n",
    "    \n",
    "    # Calculate the rest of the fucking vector\n",
    "    res[1:v.size-1] = amin*v[:v.size-2] + a0*v[1:v.size-1] + aplus*v[2:]\n",
    "    return res\n",
    "\n",
    "def get_values(self):\n",
    "    return np.copy(self.V[:,-1])\n",
    "\n",
    "def get_stock_prices(self):\n",
    "    return np.exp(self.Xmin + self.dx*np.arange(0,M))\n",
    "\n",
    "def get_X(self):\n",
    "    return self.Xmin + self.dx*np.arange(0,M)\n",
    "\n",
    "def plot_grid(self):\n",
    "    plt.imshow(self.V,origin='lower',cmap='gray_r')\n",
    "    plt.colorbar()\n",
    "    plt.xlabel(\"n\")\n",
    "    plt.ylabel(\"i\")\n",
    "\n",
    "def get_deltas(self):\n",
    "    deltas = np.zeros(self.M)\n",
    "    \n",
    "    deltas[0,] = 0\n",
    "    deltas[-1] = np.exp(self.Xmax)\n",
    "    \n",
    "    deltas[1:self.M-1] = (self.V[2:self.M,-1] - self.V[0:self.M-2,-1]) / (2*self.dx)\n",
    "    \n",
    "    deltas *= np.exp(-(self.Xmin + np.arange(0,self.M)*self.dx))\n",
    "        \n",
    "    return deltas"
   ]
  },
  {
   "cell_type": "code",
   "execution_count": 124,
   "metadata": {
    "collapsed": true
   },
   "outputs": [],
   "source": [
    "PDE.create_params = create_params\n",
    "PDE.BMatrix = BMatrix\n",
    "PDE.AprodV = AprodV\n",
    "PDE.get_values = get_values\n",
    "PDE.get_stock_prices = get_stock_prices\n",
    "PDE.get_X = get_X\n",
    "PDE.get_deltas = get_deltas\n",
    "PDE.plot_grid = plot_grid"
   ]
  },
  {
   "cell_type": "code",
   "execution_count": 125,
   "metadata": {
    "collapsed": true
   },
   "outputs": [],
   "source": [
    "# Misc functions\n",
    "\n",
    "# Black Scholes formula\n",
    "def black_scholes(r, K, T, S_0, sigma, call=True):\n",
    "    '''\n",
    "    Calculates the Hedge ratio, call or put price\n",
    "    \n",
    "    Parameters\n",
    "        r: float\n",
    "            Interest rate\n",
    "        K: float\n",
    "            Strike price\n",
    "        T: int\n",
    "            Time of maturity\n",
    "        S_0: float\n",
    "            Current stock price\n",
    "        sigma: float\n",
    "            Volatility\n",
    "        call: bool\n",
    "            check if call or put\n",
    "        \n",
    "    Returns\n",
    "        delta: float\n",
    "            Hedge ratio\n",
    "        price: float\n",
    "            Call or put price\n",
    "    '''\n",
    "    d1 = (np.log(S_0/K)+(r+(sigma**2)/2)*T)/(sigma*np.sqrt(T))\n",
    "    d2 = d1-sigma*(T**0.5) \n",
    "    N1 = norm.cdf(d1)\n",
    "    N2 = norm.cdf(d2)\n",
    "    N3 = norm.cdf(-d1)\n",
    "    N4 = norm.cdf(-d2)\n",
    "    \n",
    "    if call:\n",
    "        price = S_0*N1 - K*np.exp(-r*T)*N2\n",
    "        delta = N1\n",
    "    else:\n",
    "        price = K*np.exp(-r*T)*N4 - S_0*N3\n",
    "        delta = N1 - 1\n",
    "    \n",
    "    return delta, price "
   ]
  },
  {
   "cell_type": "code",
   "execution_count": 126,
   "metadata": {
    "collapsed": true
   },
   "outputs": [],
   "source": [
    "sigma,r,T = 0.2, 0.06, 1\n",
    "K = 99\n",
    "S_bounds = 0.0001, 1000\n",
    "N, M = 1000, 1000\n",
    "\n",
    "#scheme = \"FTCS\"\n",
    "scheme = \"Crank_Nicolson\"\n",
    "\n",
    "#boundary = \"Dirichlet\"\n",
    "boundary = \"Neumann\"\n",
    "\n",
    "test = PDE(K, sigma, r, T, S_bounds, N, M, scheme, boundary)\n",
    "\n",
    "test.run()"
   ]
  },
  {
   "cell_type": "code",
   "execution_count": 127,
   "metadata": {},
   "outputs": [
    {
     "data": {
      "image/png": "[encoded data removed]",
      "text/plain": [
       "<matplotlib.figure.Figure at 0x7ff79b3f2160>"
      ]
     },
     "metadata": {},
     "output_type": "display_data"
    },
    {
     "data": {
      "image/png": "[encoded data removed]",
      "text/plain": [
       "<matplotlib.figure.Figure at 0x7ff79b073eb8>"
      ]
     },
     "metadata": {},
     "output_type": "display_data"
    },
    {
     "data": {
      "image/png": "[encoded data removed]",
      "text/plain": [
       "<matplotlib.figure.Figure at 0x7ff79b397160>"
      ]
     },
     "metadata": {},
     "output_type": "display_data"
    },
    {
     "data": {
      "image/png": "[encoded data removed]",
      "text/plain": [
       "<matplotlib.figure.Figure at 0x7ff7a5840240>"
      ]
     },
     "metadata": {},
     "output_type": "display_data"
    }
   ],
   "source": [
    "S = test.get_stock_prices()\n",
    "X = test.get_X()\n",
    "V = test.get_values()\n",
    "D = test.get_deltas()\n",
    "\n",
    "BS_delta, BS_price = black_scholes(r, K, T, S, sigma)\n",
    "\n",
    "# Price\n",
    "plt.title(\"Option price\")\n",
    "plt.xlabel(\"Stock price\")\n",
    "plt.ylabel(\"Value\")\n",
    "plt.plot(S,V,label=\"Finite Difference\")\n",
    "plt.plot(S,BS_price,'--',label=\"Black-Scholes\")\n",
    "plt.legend()\n",
    "plt.show()\n",
    "\n",
    "plt.title(\"Option price difference\")\n",
    "plt.xlabel(\"Stock price\")\n",
    "plt.ylabel(\"Difference with Black-Scholes\")\n",
    "plt.plot(S,V-BS_price)\n",
    "plt.show()\n",
    "\n",
    "# Delta\n",
    "plt.title(\"Hedge parameter\")\n",
    "plt.xlabel(\"Stock price\")\n",
    "plt.ylabel(\"Delta\")\n",
    "plt.plot(S,D,label=\"Finite Difference\")\n",
    "plt.plot(S,BS_delta,'--',label=\"Black-Scholes\")\n",
    "plt.legend()\n",
    "plt.show()\n",
    "\n",
    "plt.title(\"Hedge parameter difference\")\n",
    "plt.xlabel(\"Stock price\")\n",
    "plt.ylabel(\"Difference with Black-Scholes\")\n",
    "plt.plot(S,D-BS_delta)\n",
    "plt.show()"
   ]
  },
  {
   "cell_type": "code",
   "execution_count": 128,
   "metadata": {},
   "outputs": [
    {
     "name": "stdout",
     "output_type": "stream",
     "text": [
      "Stock price at t = 0: 101.159111\n",
      "\n",
      "PDE price: 12.336665\n",
      "\n",
      "Black-Scholes price: 12.337169\n",
      "\n",
      "PDE delta: 0.694195\n",
      "\n",
      "Black-Scholes delta: 0.694229\n"
     ]
    }
   ],
   "source": [
    "idx = 857\n",
    "\n",
    "print(\"Stock price at t = 0: %f\\n\" % S[idx])\n",
    "\n",
    "print(\"PDE price: %f\\n\" % V[idx])\n",
    "print(\"Black-Scholes price: %f\\n\" % BS_price[idx])\n",
    "\n",
    "print(\"PDE delta: %f\\n\" % D[idx])\n",
    "print(\"Black-Scholes delta: %f\" % BS_delta[idx])"
   ]
  },
  {
   "cell_type": "code",
   "execution_count": 129,
   "metadata": {},
   "outputs": [
    {
     "data": {
      "image/png": "[encoded data removed]",
      "text/plain": [
       "<matplotlib.figure.Figure at 0x7ff79b12cb70>"
      ]
     },
     "metadata": {},
     "output_type": "display_data"
    }
   ],
   "source": [
    "test.plot_grid()\n",
    "plt.show()"
   ]
  }
 ],
 "metadata": {
  "kernelspec": {
   "display_name": "Python [default]",
   "language": "python",
   "name": "python3"
  },
  "language_info": {
   "codemirror_mode": {
    "name": "ipython",
    "version": 3
   },
   "file_extension": ".py",
   "mimetype": "text/x-python",
   "name": "python",
   "nbconvert_exporter": "python",
   "pygments_lexer": "ipython3",
   "version": "3.6.3"
  }
 },
 "nbformat": 4,
 "nbformat_minor": 2
}
